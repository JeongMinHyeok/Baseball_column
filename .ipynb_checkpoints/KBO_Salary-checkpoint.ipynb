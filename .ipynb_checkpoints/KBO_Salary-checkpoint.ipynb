{
 "cells": [
  {
   "cell_type": "code",
   "execution_count": 43,
   "id": "3d17ee5e-9390-43d2-a435-db5d1684f9c8",
   "metadata": {},
   "outputs": [],
   "source": [
    "import pandas as pd\n",
    "import numpy as np"
   ]
  },
  {
   "cell_type": "code",
   "execution_count": 78,
   "id": "42563f5a-dcea-4dd9-9b10-b35b510f073c",
   "metadata": {},
   "outputs": [],
   "source": [
    "pitch_df = pd.read_csv('pitch82_21.csv')\n",
    "bat_df = pd.read_csv('bat82_21.csv')"
   ]
  },
  {
   "cell_type": "code",
   "execution_count": 79,
   "id": "8260ab83-2c86-4589-accf-483a4e845b18",
   "metadata": {},
   "outputs": [],
   "source": [
    "pitch_df['연봉'] = np.nan\n",
    "bat_df['연봉'] = np.nan"
   ]
  },
  {
   "cell_type": "markdown",
   "id": "871e0acb-034f-4307-b20f-305488bdc351",
   "metadata": {
    "tags": []
   },
   "source": [
    "----\n",
    "#### 연봉데이터 수집 (KBO, Statiz)"
   ]
  },
  {
   "cell_type": "code",
   "execution_count": 89,
   "id": "81dbe580-10d4-4ab1-b2d0-55471a0a40ea",
   "metadata": {},
   "outputs": [],
   "source": [
    "# 21시즌 연봉데이터 수집 (KBO)\n",
    "\n",
    "import pandas as pd\n",
    "import numpy as np\n",
    "import selenium\n",
    "from selenium import webdriver\n",
    "from selenium.webdriver.common.keys import Keys\n",
    "from selenium.webdriver.support.ui import Select\n",
    "from selenium.webdriver import ActionChains\n",
    "import time\n",
    "import warnings\n",
    "warnings.filterwarnings('ignore')\n",
    "\n",
    "def crawler(name):\n",
    "    # Chromedriver 옵션 설정\n",
    "    options = webdriver.ChromeOptions()\n",
    "    options.add_argument(\"headless\")\n",
    "\n",
    "    # execute driver & connect page\n",
    "    driver = webdriver.Chrome('./chromedriver', options=options)\n",
    "    driver.get('https://www.koreabaseball.com/Player/Search.aspx')\n",
    "    time.sleep(2)\n",
    "    \n",
    "    # 선수이름 검색\n",
    "    searchbox = driver.find_element_by_xpath('//*[@id=\"cphContents_cphContents_cphContents_txtSearchPlayerName\"]')\n",
    "    searchbox.send_keys(name)\n",
    "    searchbutton = driver.find_element_by_xpath('//*[@id=\"cphContents_cphContents_cphContents_btnSearch\"]')\n",
    "    searchbutton.click()\n",
    "    time.sleep(2)\n",
    "    \n",
    "    # 선수 상세페이지 진입\n",
    "    player_info = driver.find_element_by_xpath('//*[@id=\"cphContents_cphContents_cphContents_udpRecord\"]/div[2]/table/tbody/tr/td[2]/a')\n",
    "    player_info.click()\n",
    "    time.sleep(2)\n",
    "    \n",
    "    # 연봉정보 수집\n",
    "    salary = driver.find_element_by_xpath('//*[@id=\"cphContents_cphContents_cphContents_playerProfile_lblSalary\"]')\n",
    "    player_salary = salary.text\n",
    "    \n",
    "    return player_salary"
   ]
  },
  {
   "cell_type": "code",
   "execution_count": 82,
   "id": "33c795c1-206c-4aff-b83d-7e1dab631271",
   "metadata": {},
   "outputs": [],
   "source": [
    "pitch_df21 = pitch_df[pitch_df['연도'] == 21]"
   ]
  },
  {
   "cell_type": "code",
   "execution_count": 88,
   "id": "541616f3-261a-458f-a11d-bb44a871b98a",
   "metadata": {},
   "outputs": [],
   "source": [
    "for i in pitch_df21.index:\n",
    "    try:\n",
    "        pitch_df21['연봉'][i] = crawler(pitch_df21['이름'][i])\n",
    "    except:\n",
    "        continue"
   ]
  },
  {
   "cell_type": "code",
   "execution_count": 90,
   "id": "8e66e2a8-1247-4407-b986-59211903bbcf",
   "metadata": {},
   "outputs": [],
   "source": [
    "bat_df21 = bat_df[bat_df['연도'] == 21]\n",
    "\n",
    "for i in bat_df21.index:\n",
    "    try:\n",
    "        bat_df21['연봉'][i] = crawler(bat_df21['이름'][i])\n",
    "    except:\n",
    "        continue"
   ]
  },
  {
   "cell_type": "code",
   "execution_count": 94,
   "id": "68613567-d22c-4928-90b4-72c66040ec38",
   "metadata": {},
   "outputs": [],
   "source": [
    "pitch_df21 = pitch_df21.drop([pitch_df21.columns[0], pitch_df21.columns[1], pitch_df21.columns[2]], axis=1)"
   ]
  },
  {
   "cell_type": "code",
   "execution_count": 96,
   "id": "669c2c08-1c2d-462a-b3d5-bda5588d90bf",
   "metadata": {},
   "outputs": [],
   "source": [
    "pitch_df21.reset_index(inplace=True)"
   ]
  },
  {
   "cell_type": "code",
   "execution_count": 99,
   "id": "56cfb7c0-f301-4f33-8157-f5e6cfb039fb",
   "metadata": {},
   "outputs": [],
   "source": [
    "pitch_df21 = pitch_df21.drop(pitch_df21.columns[0], axis=1)"
   ]
  },
  {
   "cell_type": "code",
   "execution_count": 101,
   "id": "045a6919-8b34-42f3-bcbb-06ccd29c454e",
   "metadata": {},
   "outputs": [],
   "source": [
    "pitch_df21.to_csv('pitch21_sal.csv')"
   ]
  },
  {
   "cell_type": "code",
   "execution_count": 102,
   "id": "fce7eeaa-03e3-413a-ae61-c54b3808dfae",
   "metadata": {},
   "outputs": [],
   "source": [
    "bat_df21.reset_index(inplace=True)"
   ]
  },
  {
   "cell_type": "code",
   "execution_count": 104,
   "id": "788d66fd-ed62-4027-8044-725375ac53ca",
   "metadata": {},
   "outputs": [],
   "source": [
    "bat_df21 = bat_df21.drop([bat_df21.columns[0], bat_df21.columns[1], bat_df21.columns[2]], axis=1)"
   ]
  },
  {
   "cell_type": "code",
   "execution_count": 106,
   "id": "423aa65d-c7b8-4c11-81d6-ae255bc005a6",
   "metadata": {},
   "outputs": [],
   "source": [
    "bat_df21.to_csv('bat21_sal.csv')"
   ]
  },
  {
   "cell_type": "code",
   "execution_count": null,
   "id": "b7404a6a-f23a-47a9-bee5-13e636b773c4",
   "metadata": {},
   "outputs": [],
   "source": []
  }
 ],
 "metadata": {
  "kernelspec": {
   "display_name": "Python 3 (ipykernel)",
   "language": "python",
   "name": "python3"
  },
  "language_info": {
   "codemirror_mode": {
    "name": "ipython",
    "version": 3
   },
   "file_extension": ".py",
   "mimetype": "text/x-python",
   "name": "python",
   "nbconvert_exporter": "python",
   "pygments_lexer": "ipython3",
   "version": "3.9.7"
  }
 },
 "nbformat": 4,
 "nbformat_minor": 5
}
